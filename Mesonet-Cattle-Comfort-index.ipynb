{
 "cells": [
  {
   "cell_type": "code",
   "execution_count": 1,
   "id": "428489ba-8f1b-44c0-8ecd-dcd4f725c9f6",
   "metadata": {},
   "outputs": [
    {
     "name": "stdout",
     "output_type": "stream",
     "text": [
      "c:\\Climalytix\\WeatherData\\SouixIA\n"
     ]
    }
   ],
   "source": [
    "# importing libraries \n",
    "import pandas as pd \n",
    "import os \n",
    "import numpy as np\n",
    "\n",
    "# for database connection\n",
    "from sqlalchemy import create_engine\n",
    "\n",
    "# Set working directory\n",
    "os.chdir('c:/Climalytix/WeatherData/SouixIA')\n",
    "print(os.getcwd())"
   ]
  },
  {
   "cell_type": "code",
   "execution_count": 2,
   "id": "f591ede1-30e9-4904-974f-68846fafffc4",
   "metadata": {},
   "outputs": [],
   "source": [
    "# CSV File source : SouixCountyIowa-WeatherData-20211215-20220614.csv\n",
    "# Example Below : 2021-12-15 Souix County Iowa (42.967830657959, -96.1524963378906) \n",
    "# Weather Data Source : https://www.visualcrossing.com/\n",
    "# Weather Data Source Documentation : https://www.visualcrossing.com/resources/documentation/weather-data/weather-data-documentation/\n",
    "\n",
    "vFileName = \"SouixCountyIowa-WeatherData-20211215-20220614.csv\"\n",
    "df = pd.read_csv(vFileName) "
   ]
  },
  {
   "cell_type": "code",
   "execution_count": null,
   "id": "64bc0302-ad7e-4148-8f49-1cbf8f22dfb5",
   "metadata": {},
   "outputs": [],
   "source": [
    "# Use to Test Calculation expected results = 37.9\n",
    "# An example CCI calculation for environmental conditions, represented\n",
    "# by Ta, RH, WS, and RAD of 30°C, 50%, 1.0 m/s, and 500 W/m2, respectively,\n",
    "# would be as follows: 30°C + 1.8 (RH adjustment from Eq. [1]) + 0.6\n",
    "# (WS adjustment from Eq. [2]) + 5.5 (RAD adjustment from Eq. [3] = 37.9.\n",
    "\n",
    "# Source:: https://content.prod.mesonet.org/learn/ag/tools_documentation/Cattle_Comfort_Description.201605.pdf\n",
    "\n",
    "# Declare Variables for testing\n",
    "# Euler's number\n",
    "#e = 2.71828 \n",
    "\n",
    "# ambient temperature\n",
    "#Ta = 47.2000007629395\n",
    "\n",
    "# relative humidity\n",
    "#RH = 89.5 \n",
    "\n",
    "# wind speed\n",
    "#WS = 39.7000007629395 \n",
    "\n",
    "# radiation\n",
    "#RAD = 61.2000007629395"
   ]
  },
  {
   "cell_type": "code",
   "execution_count": 3,
   "id": "0c19ccc2-aee1-4cb1-b499-05017d9f5007",
   "metadata": {},
   "outputs": [],
   "source": [
    "# Calculate RH correction factor\n",
    "# Euler's number\n",
    "e = 2.71828 \n",
    "\n",
    "RHx = (0.00182 * df.RH + 1.8 * pow(10,-5) * df.Ta * df.RH)\n",
    "\n",
    "RHy = (0.000054 * pow(df.Ta,2) + 0.00192 * df.Ta - 0.0246) * (df.RH - 30)\n",
    "\n",
    "RHz = pow(e,RHx)\n",
    "\n",
    "RHCorrFactor = RHz * RHy\n",
    "\n",
    "#print(RHCorrFactor)\n",
    "df['RHCorrFactor'] = RHCorrFactor\n",
    "# Test output 1.8"
   ]
  },
  {
   "cell_type": "code",
   "execution_count": 4,
   "id": "1726b08d-bab7-43fa-b26c-b1cde2e3ece1",
   "metadata": {},
   "outputs": [],
   "source": [
    "# Calculate Wind Speed (WS) correction factor\n",
    "# Needed to replace the math libary with numpy as math has trouble handling pandas dataframe data (series). Needed to put data in numpy array.\n",
    "WSa = 1/pow((2.26 * df.WS + 0.23),0.45)\n",
    "\n",
    "WSb = 2.9 + 1.14 * pow(10,-6) * pow(df.WS,2.5) - np.emath.logn(0.3, np.array(pow((2.26 * df.WS + 0.33),-2))) \n",
    "\n",
    "WSc = WSa * WSb\n",
    "\n",
    "WSd = pow(e,WSc)\n",
    "\n",
    "# The formula in the University of Nebraska document was incorrect. The Mesonet document has the updated corrected calc. by the same author.\n",
    "WSCorrFactor = (-6.56/WSd) - 0.00566 * pow(df.WS,2) + 3.33 \n",
    "\n",
    "#print(WSCorrFactor)\n",
    "df['WSCorrFactor'] = WSCorrFactor\n",
    "# Test output 0.6"
   ]
  },
  {
   "cell_type": "code",
   "execution_count": 5,
   "id": "092680eb-0c7b-4e98-bd07-3fba63fe7f6a",
   "metadata": {},
   "outputs": [],
   "source": [
    "# Calculate RAD correction factor\n",
    "RADCorrFactor = 0.0076 * df.RAD - 0.00002 * df.RAD * df.Ta + 0.00005 * pow(df.Ta,2) * np.sqrt(df.RAD) + 0.1 * df.Ta - 2 \n",
    "\n",
    "#print(RADCorrFactor)\n",
    "df['RADCorrFactor'] = RADCorrFactor\n",
    "# Test output 5.5"
   ]
  },
  {
   "cell_type": "code",
   "execution_count": 6,
   "id": "92fd8f3b-dff5-4a28-b4dc-4541126cf303",
   "metadata": {},
   "outputs": [],
   "source": [
    "# Calculate the final Cattle Comfort Index (CCI) value.\n",
    "\n",
    "df['CCI'] = df.Ta + df.RHCorrFactor + df.WSCorrFactor + df.RADCorrFactor\n",
    "#print(CCI)\n",
    "# Test output 37.9"
   ]
  },
  {
   "cell_type": "code",
   "execution_count": 7,
   "id": "dfb62915-f9ca-4695-9ad0-de2aa097a760",
   "metadata": {},
   "outputs": [],
   "source": [
    "# Added feature. Days on Feed (DOF). Thought it would be interesting to add to the final dataset. \n",
    "df.insert(0, 'DOF', range(0,len(df)))"
   ]
  },
  {
   "cell_type": "code",
   "execution_count": 8,
   "id": "0ed15b54-7d3b-44d5-a0c8-8799463c081f",
   "metadata": {},
   "outputs": [
    {
     "data": {
      "text/html": [
       "<div>\n",
       "<style scoped>\n",
       "    .dataframe tbody tr th:only-of-type {\n",
       "        vertical-align: middle;\n",
       "    }\n",
       "\n",
       "    .dataframe tbody tr th {\n",
       "        vertical-align: top;\n",
       "    }\n",
       "\n",
       "    .dataframe thead th {\n",
       "        text-align: right;\n",
       "    }\n",
       "</style>\n",
       "<table border=\"1\" class=\"dataframe\">\n",
       "  <thead>\n",
       "    <tr style=\"text-align: right;\">\n",
       "      <th></th>\n",
       "      <th>DOF</th>\n",
       "      <th>name</th>\n",
       "      <th>datetime</th>\n",
       "      <th>Ta</th>\n",
       "      <th>RH</th>\n",
       "      <th>WS</th>\n",
       "      <th>RAD</th>\n",
       "      <th>RHCorrFactor</th>\n",
       "      <th>WSCorrFactor</th>\n",
       "      <th>RADCorrFactor</th>\n",
       "      <th>CCI</th>\n",
       "    </tr>\n",
       "  </thead>\n",
       "  <tbody>\n",
       "    <tr>\n",
       "      <th>0</th>\n",
       "      <td>0</td>\n",
       "      <td>42.967830657959, -96.1524963378906</td>\n",
       "      <td>12/15/2021</td>\n",
       "      <td>47.200001</td>\n",
       "      <td>89.500000</td>\n",
       "      <td>39.700001</td>\n",
       "      <td>61.200001</td>\n",
       "      <td>14.078590</td>\n",
       "      <td>-17.575985</td>\n",
       "      <td>3.998772</td>\n",
       "      <td>47.701378</td>\n",
       "    </tr>\n",
       "    <tr>\n",
       "      <th>1</th>\n",
       "      <td>1</td>\n",
       "      <td>42.967830657959, -96.1524963378906</td>\n",
       "      <td>12/16/2021</td>\n",
       "      <td>24.200001</td>\n",
       "      <td>75.500000</td>\n",
       "      <td>29.799999</td>\n",
       "      <td>87.199997</td>\n",
       "      <td>2.885570</td>\n",
       "      <td>-13.831104</td>\n",
       "      <td>1.313953</td>\n",
       "      <td>14.568421</td>\n",
       "    </tr>\n",
       "    <tr>\n",
       "      <th>2</th>\n",
       "      <td>2</td>\n",
       "      <td>42.967830657959, -96.1524963378906</td>\n",
       "      <td>12/17/2021</td>\n",
       "      <td>26.299999</td>\n",
       "      <td>75.500000</td>\n",
       "      <td>19.100000</td>\n",
       "      <td>41.700001</td>\n",
       "      <td>3.421778</td>\n",
       "      <td>-10.890707</td>\n",
       "      <td>1.148317</td>\n",
       "      <td>19.979387</td>\n",
       "    </tr>\n",
       "    <tr>\n",
       "      <th>3</th>\n",
       "      <td>3</td>\n",
       "      <td>42.967830657959, -96.1524963378906</td>\n",
       "      <td>12/18/2021</td>\n",
       "      <td>19.400000</td>\n",
       "      <td>83.699997</td>\n",
       "      <td>15.100000</td>\n",
       "      <td>60.500000</td>\n",
       "      <td>2.123066</td>\n",
       "      <td>-9.992215</td>\n",
       "      <td>0.522696</td>\n",
       "      <td>12.053547</td>\n",
       "    </tr>\n",
       "    <tr>\n",
       "      <th>4</th>\n",
       "      <td>4</td>\n",
       "      <td>42.967830657959, -96.1524963378906</td>\n",
       "      <td>12/19/2021</td>\n",
       "      <td>24.299999</td>\n",
       "      <td>73.099998</td>\n",
       "      <td>27.799999</td>\n",
       "      <td>68.199997</td>\n",
       "      <td>2.742038</td>\n",
       "      <td>-13.201066</td>\n",
       "      <td>1.158998</td>\n",
       "      <td>14.999969</td>\n",
       "    </tr>\n",
       "  </tbody>\n",
       "</table>\n",
       "</div>"
      ],
      "text/plain": [
       "   DOF                                name    datetime         Ta         RH  \\\n",
       "0    0  42.967830657959, -96.1524963378906  12/15/2021  47.200001  89.500000   \n",
       "1    1  42.967830657959, -96.1524963378906  12/16/2021  24.200001  75.500000   \n",
       "2    2  42.967830657959, -96.1524963378906  12/17/2021  26.299999  75.500000   \n",
       "3    3  42.967830657959, -96.1524963378906  12/18/2021  19.400000  83.699997   \n",
       "4    4  42.967830657959, -96.1524963378906  12/19/2021  24.299999  73.099998   \n",
       "\n",
       "          WS        RAD  RHCorrFactor  WSCorrFactor  RADCorrFactor        CCI  \n",
       "0  39.700001  61.200001     14.078590    -17.575985       3.998772  47.701378  \n",
       "1  29.799999  87.199997      2.885570    -13.831104       1.313953  14.568421  \n",
       "2  19.100000  41.700001      3.421778    -10.890707       1.148317  19.979387  \n",
       "3  15.100000  60.500000      2.123066     -9.992215       0.522696  12.053547  \n",
       "4  27.799999  68.199997      2.742038    -13.201066       1.158998  14.999969  "
      ]
     },
     "execution_count": 8,
     "metadata": {},
     "output_type": "execute_result"
    }
   ],
   "source": [
    "# Just take a look to see what it looks like\n",
    "df.head()"
   ]
  },
  {
   "cell_type": "code",
   "execution_count": 9,
   "id": "d2fcf721-a526-4637-a1bf-1be56b431e57",
   "metadata": {},
   "outputs": [],
   "source": [
    "# Windows Authentication\n",
    "\n",
    "Server = 'John-PC\\SQLEXPRESS'\n",
    "Database = 'CattleData'\n",
    "#Driver = 'SQL Server'\n",
    "Driver = 'ODBC Driver 17 for SQL Server'\n",
    "\n",
    "#Username =\n",
    "#Password = \n",
    "#DatabaseConn = f'mssql://{Username}:{Password}@{Server}/{Database}?driver={Driver}'\n",
    "\n",
    "DatabaseConn = f'mssql://@{Server}/{Database}?driver={Driver}'\n",
    "\n",
    "engine = create_engine(DatabaseConn)\n",
    "con = engine.connect()"
   ]
  },
  {
   "cell_type": "code",
   "execution_count": 10,
   "id": "8301043a-4aea-4234-854c-b1ccb83b9f07",
   "metadata": {},
   "outputs": [
    {
     "data": {
      "text/plain": [
       "182"
      ]
     },
     "execution_count": 10,
     "metadata": {},
     "output_type": "execute_result"
    }
   ],
   "source": [
    "# to_sql funtion creates a new table, index = False does not include index from df, if_exists = 'replace' will replace the entire table\n",
    "df.to_sql('[SouixCountyIowaCCI]', con = engine, if_exists = 'replace', index = False, chunksize = 50) \n",
    "# chunksize not required, but helpful for large amounts of data"
   ]
  },
  {
   "cell_type": "code",
   "execution_count": null,
   "id": "02a866cc-f948-46af-8c12-b5cd28d41d42",
   "metadata": {},
   "outputs": [],
   "source": []
  }
 ],
 "metadata": {
  "kernelspec": {
   "display_name": "Python 3 (ipykernel)",
   "language": "python",
   "name": "python3"
  },
  "language_info": {
   "codemirror_mode": {
    "name": "ipython",
    "version": 3
   },
   "file_extension": ".py",
   "mimetype": "text/x-python",
   "name": "python",
   "nbconvert_exporter": "python",
   "pygments_lexer": "ipython3",
   "version": "3.11.5"
  }
 },
 "nbformat": 4,
 "nbformat_minor": 5
}
